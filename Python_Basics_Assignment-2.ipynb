{
 "cells": [
  {
   "cell_type": "markdown",
   "id": "661d6d13",
   "metadata": {},
   "source": [
    "1.What are the two values of the Boolean data type? How do you write them?\n",
    "\n",
    "Ans: True and False which corresponds to 1 and 0.\n"
   ]
  },
  {
   "cell_type": "markdown",
   "id": "893b9556",
   "metadata": {},
   "source": [
    "2. What are the three different types of Boolean operators?\n",
    "\n",
    "Ans: The three types of boolean operators are AND, OR and NOT.\n"
   ]
  },
  {
   "cell_type": "raw",
   "id": "9bf63e51",
   "metadata": {},
   "source": [
    "3. Make a list of each Boolean operator's truth tables (i.e. every possible combination of Boolean values for the operator and what it evaluate).\n",
    "Ans: AND Table:\n",
    "A\tB\tOutput\n",
    "F\tF\tF\n",
    "F\tT\tF\n",
    "T\tF\tF\n",
    "T\tT\tT\n",
    "\n",
    "OR Table:\n",
    "A\tB\tOutput\n",
    "F\tF\tF\n",
    "F\tT\tT\n",
    "T\tF\tT\n",
    "T\tT\tT\n",
    "\n",
    "AND Table:\n",
    "A\tOutput\n",
    "F\tT\n",
    "T\tF\n"
   ]
  },
  {
   "cell_type": "raw",
   "id": "f71d1f4e",
   "metadata": {},
   "source": [
    "4. What are the values of the following expressions?\n",
    "(5 > 4) and (3 == 5)\n",
    "Ans: False\n",
    "not (5 > 4)\n",
    "Ans: False\n",
    "(5 > 4) or (3 == 5)\n",
    "Ans: True\n",
    "not ((5 > 4) or (3 == 5))\n",
    "Ans: False\n",
    "(True and True) and (True == False)\n",
    "Ans: False\n",
    "(not False) or (not True)\n",
    "Ans: True\n"
   ]
  },
  {
   "cell_type": "markdown",
   "id": "0deffc97",
   "metadata": {},
   "source": [
    "5. What are the six comparison operators?\n",
    "\n",
    "Ans: Less than ( < ), Less than or equal to ( <= ), Greater than ( > ), Greater than or equal to ( >= ), \n",
    "Equal to ( == ) and Not equal to ( != ) are six comparison operators."
   ]
  },
  {
   "cell_type": "markdown",
   "id": "4eb7e4a8",
   "metadata": {},
   "source": [
    "6. How do you tell the difference between the equal to and assignment operators? Describe a condition and when you would use one.\n",
    "\n",
    "Ans: Equal to operator is used to check the contain of a variable while assignment operator is used to assign a value to a variable. \n",
    "Example: if we want to check whether a number is even or odd then it can be done by checking the remainder of divide by 2 is equal to 0 or not by equal to operator and if it is even then counter can be increased by one using assignment operator.\n"
   ]
  },
  {
   "cell_type": "raw",
   "id": "097d00e5",
   "metadata": {},
   "source": [
    "7. Identify the three blocks in this code:\n",
    "spam = 0\n",
    "if spam == 10:\n",
    "    print('eggs')\n",
    "    if spam > 5:\n",
    "        print('bacon')\n",
    "    else:\n",
    "        print('ham')\n",
    "    print('spam')\n",
    "print('spam')\n",
    "Ans: The three blocks are everything inside the if statement and the lines print('bacon') and print('ham').\n"
   ]
  },
  {
   "cell_type": "code",
   "execution_count": 12,
   "id": "c796483a",
   "metadata": {},
   "outputs": [
    {
     "name": "stdout",
     "output_type": "stream",
     "text": [
      "Give an input: er\n",
      "Greetings\n"
     ]
    }
   ],
   "source": [
    "# 8. Write code that prints Hello if 1 is stored in spam, prints Howdy if 2 is stored in spam, \n",
    "# and prints Greetings! if anything else is stored in spam.\n",
    "spam = input(\"Give an input: \")\n",
    "if spam == '1':\n",
    "    print('Hello')\n",
    "elif spam == '2':\n",
    "    print('Howdy')\n",
    "else:\n",
    "     print('Greetings')   "
   ]
  },
  {
   "cell_type": "code",
   "execution_count": 14,
   "id": "c0cd601c",
   "metadata": {},
   "outputs": [],
   "source": [
    "# 9.If your programme is stuck in an endless loop, what keys you’ll press?\n",
    "# Ans: CLTR + C"
   ]
  },
  {
   "cell_type": "code",
   "execution_count": 15,
   "id": "19ac9c56",
   "metadata": {},
   "outputs": [],
   "source": [
    "# 10. How can you tell the difference between break and continue?\n",
    "# Ans: Break statement breaks the loop inside which it is written while continue statement runs the loop even no operation \n",
    "#      is happening inside the loop."
   ]
  },
  {
   "cell_type": "code",
   "execution_count": 21,
   "id": "60c18459",
   "metadata": {},
   "outputs": [],
   "source": [
    "# 11. In a for loop, what is the difference between range(10), range(0, 10), and range(0, 10, 1)?\n",
    "# Ans: In for loop there is no difference between range(10), range(0, 10) and range(0, 10, 1) becouse all will start from 0 go\n",
    "#      to 10-1 i.e. 9 with the step size of 1."
   ]
  },
  {
   "cell_type": "code",
   "execution_count": 23,
   "id": "777b23d5",
   "metadata": {},
   "outputs": [
    {
     "name": "stdout",
     "output_type": "stream",
     "text": [
      "1\n",
      "2\n",
      "3\n",
      "4\n",
      "5\n",
      "6\n",
      "7\n",
      "8\n",
      "9\n",
      "10\n"
     ]
    }
   ],
   "source": [
    "# 12. Write a short program that prints the numbers 1 to 10 using a for loop. \n",
    "# Then write an equivalent program that prints the numbers 1 to 10 using a while loop.\n",
    "\n",
    "# Using for loop\n",
    "for i in range(1,11):\n",
    "    print(i)"
   ]
  },
  {
   "cell_type": "code",
   "execution_count": 25,
   "id": "ed7f1b9a",
   "metadata": {},
   "outputs": [
    {
     "name": "stdout",
     "output_type": "stream",
     "text": [
      "1\n",
      "2\n",
      "3\n",
      "4\n",
      "5\n",
      "6\n",
      "7\n",
      "8\n",
      "9\n",
      "10\n"
     ]
    }
   ],
   "source": [
    "# Using while loop\n",
    "i = 1\n",
    "while i <= 10:\n",
    "    print(i)\n",
    "    i+=1"
   ]
  },
  {
   "cell_type": "code",
   "execution_count": 26,
   "id": "314eddda",
   "metadata": {},
   "outputs": [],
   "source": [
    "# 13. If you had a function named bacon() inside a module named spam, how would you call it after importing spam?\n",
    "# Ans: from spam import bacon"
   ]
  }
 ],
 "metadata": {
  "kernelspec": {
   "display_name": "Python 3",
   "language": "python",
   "name": "python3"
  },
  "language_info": {
   "codemirror_mode": {
    "name": "ipython",
    "version": 3
   },
   "file_extension": ".py",
   "mimetype": "text/x-python",
   "name": "python",
   "nbconvert_exporter": "python",
   "pygments_lexer": "ipython3",
   "version": "3.8.8"
  }
 },
 "nbformat": 4,
 "nbformat_minor": 5
}
