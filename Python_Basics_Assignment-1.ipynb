{
 "cells": [
  {
   "cell_type": "raw",
   "id": "101811ac",
   "metadata": {},
   "source": [
    "1. In the below elements which of them are values or an expression? eg:- values can be integer or string and expressions will be mathematical operators.\n",
    "* ----- Expression\n",
    "'hello'  ----- Values\n",
    "-87.8  ------- Values\n",
    "-    ------- Expression\n",
    "/    ------- Expression\n",
    "+\t ------- Expression\n",
    "6    ------- Values\n",
    "\n",
    "Ans: Values are: 'hello', -87.8, 6\n",
    "     Expression are: * -, /, +"
   ]
  },
  {
   "cell_type": "markdown",
   "id": "893b9556",
   "metadata": {},
   "source": [
    "2. What is the difference between string and variable?\n",
    "\n",
    "Ans: String is a type of datatype(information) which is stored in a variable, while variable is a container which stores or contains any type of information like string, integer, float or double, list etc..."
   ]
  },
  {
   "cell_type": "markdown",
   "id": "9995e34c",
   "metadata": {},
   "source": [
    "3. Describe three different data types.\n",
    "\n",
    "Ans: Three different data types are: \n",
    "    1) Numeric: It is a datatype which holds numbers of type int, float or complex type.\n",
    "    2) Boolean: It is a datatype which holds boolean values such as 1(True) or 0(False).\n",
    "    3) Dictionary: It is a datatype which holds values in a pair of Key and values. Values can be same but keys should be different.\n",
    "    4) Set: It a datatype which holds unique values only."
   ]
  },
  {
   "cell_type": "markdown",
   "id": "7953d6b6",
   "metadata": {},
   "source": [
    "4. What is an expression made up of? What do all expressions do?\n",
    "\n",
    "Ans: An expression consists of operators and operand which are interpreted to produce another value. \n",
    "    eg. 2*3 = 6, so 2 & 3 are operands and * is operator and 2*3 is an expression."
   ]
  },
  {
   "cell_type": "markdown",
   "id": "0deffc97",
   "metadata": {},
   "source": [
    "5. This assignment statements, like spam = 10. What is the difference between an expression and a statement?\n",
    "\n",
    "Ans: An assignment statement like, spam = 10 assigns value of 10 to variable spam but an expression produces new value which is result of the operation performed on operands by operator during expression interpretation. "
   ]
  },
  {
   "cell_type": "code",
   "execution_count": 1,
   "id": "8d237940",
   "metadata": {},
   "outputs": [
    {
     "data": {
      "text/plain": [
       "23"
      ]
     },
     "execution_count": 1,
     "metadata": {},
     "output_type": "execute_result"
    }
   ],
   "source": [
    "# 6. After running the following code, what does the variable bacon contain?\n",
    "bacon = 22\n",
    "bacon + 1"
   ]
  },
  {
   "cell_type": "markdown",
   "id": "84c8a131",
   "metadata": {},
   "source": [
    "Ans : The value of variable bacon contain = 23"
   ]
  },
  {
   "cell_type": "code",
   "execution_count": 3,
   "id": "c796483a",
   "metadata": {},
   "outputs": [
    {
     "data": {
      "text/plain": [
       "'spamspamspam'"
      ]
     },
     "execution_count": 3,
     "metadata": {},
     "output_type": "execute_result"
    }
   ],
   "source": [
    "# 7. What should the values of the following two terms be?\n",
    "'spam' + 'spamspam'"
   ]
  },
  {
   "cell_type": "code",
   "execution_count": 4,
   "id": "c0cd601c",
   "metadata": {},
   "outputs": [
    {
     "data": {
      "text/plain": [
       "'spamspamspam'"
      ]
     },
     "execution_count": 4,
     "metadata": {},
     "output_type": "execute_result"
    }
   ],
   "source": [
    "'spam' * 3"
   ]
  },
  {
   "cell_type": "markdown",
   "id": "0c41b40a",
   "metadata": {},
   "source": [
    "Ans: The values of the following two terms will be same as 'spamspamspam' i.e. spam 3 times."
   ]
  },
  {
   "cell_type": "markdown",
   "id": "bbb7821c",
   "metadata": {},
   "source": [
    "8. Why is eggs a valid variable name while 100 is invalid?\n",
    "\n",
    "Ans: Variable names in python should never starts with numbers and special characters, if we want to use numbers then variable name should begin with letter then number like eggs100 is valid variable name. "
   ]
  },
  {
   "cell_type": "markdown",
   "id": "9ae592cc",
   "metadata": {},
   "source": [
    "9. What three functions can be used to get the integer, floating-point number, or string version of a value?\n",
    "\n",
    "Ans: int(), float() and str()."
   ]
  },
  {
   "cell_type": "markdown",
   "id": "a157b544",
   "metadata": {},
   "source": [
    "10. Why does this expression cause an error? How can you fix it?\n",
    "'I have eaten ' + 99 + ' burritos.'\n",
    "\n",
    "Ans:  We trying to add two different data types such as string with integer as 99 is integer, hence we get an error. To fix this this problem we have to change the data types by using typecasting."
   ]
  }
 ],
 "metadata": {
  "kernelspec": {
   "display_name": "Python 3",
   "language": "python",
   "name": "python3"
  },
  "language_info": {
   "codemirror_mode": {
    "name": "ipython",
    "version": 3
   },
   "file_extension": ".py",
   "mimetype": "text/x-python",
   "name": "python",
   "nbconvert_exporter": "python",
   "pygments_lexer": "ipython3",
   "version": "3.8.8"
  }
 },
 "nbformat": 4,
 "nbformat_minor": 5
}
